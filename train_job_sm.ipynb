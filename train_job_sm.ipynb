#!pip install sagemaker
import sagemaker
from sagemaker.pytorch import PyTorch

# 変数定義
role = "arn:aws:iam::479324185300:role/nan-test-ai-yolo11n-role" # SageMaker実行ロール
dataset_bucket = "nan-test-ai-dataset"
model_bucket = "nan-test-ai-model"
dataset_dir = "labelme-dataset-0328"
source_dir = "sources"


# トレーニングジョブ設定
estimator = PyTorch(
  sagemaker_session=sagemaker.Session(),
  role=role,
  entry_point="train_sm.py",
  source_dir=source_dir,
  instance_count=1,
  instance_type='ml.p3.2xlarge',
  framework_version='2.0.0',                                                   # PyTorchバージョン
  py_version='py310',
  volume_size=5,                                                                       # 大規模データ用  
  max_run=86400,                                                                     # 最大実行時間を24時間に設定  
  base_job_name=f"faster-r-cnn-train-job",
  output_path=f's3://{model_bucket}/outputs',
  hyperparameters={
  },
  environment={
  },  
  metric_definitions=[
    {'Name': 'train:loss', 'Regex': 'Loss: (.*?) '},                            # メトリクス収集
    {'Name': 'val:accuracy', 'Regex': 'Accuracy: (.*?) '}
  ],
  container_log_level=logging.DEBUG,
  disable_profiler=True,                                                               # Debugger無効化
  network_isolation=False                                                           # ネットワーク分離解除
)

# create traning job.
estimator.fit(inputs=f's3://{dataset_bucket}/{dataset_dir}')